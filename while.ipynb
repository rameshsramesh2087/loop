{
 "cells": [
  {
   "cell_type": "code",
   "execution_count": 3,
   "id": "f180022e",
   "metadata": {},
   "outputs": [
    {
     "name": "stdout",
     "output_type": "stream",
     "text": [
      "10\n"
     ]
    }
   ],
   "source": [
    "n=1234567890\n",
    "digits=0\n",
    "while n>0:\n",
    "    n//=10\n",
    "    digits+=1\n",
    "print(digits)    "
   ]
  },
  {
   "cell_type": "code",
   "execution_count": null,
   "id": "288c4e40",
   "metadata": {},
   "outputs": [],
   "source": []
  }
 ],
 "metadata": {
  "kernelspec": {
   "display_name": "base",
   "language": "python",
   "name": "python3"
  },
  "language_info": {
   "codemirror_mode": {
    "name": "ipython",
    "version": 3
   },
   "file_extension": ".py",
   "mimetype": "text/x-python",
   "name": "python",
   "nbconvert_exporter": "python",
   "pygments_lexer": "ipython3",
   "version": "3.12.7"
  }
 },
 "nbformat": 4,
 "nbformat_minor": 5
}
