{
 "cells": [
  {
   "cell_type": "code",
   "execution_count": 3,
   "id": "f180022e",
   "metadata": {},
   "outputs": [
    {
     "name": "stdout",
     "output_type": "stream",
     "text": [
      "10\n"
     ]
    }
   ],
   "source": [
    "n=1234567890\n",
    "digits=0\n",
    "while n>0:\n",
    "    n//=10\n",
    "    digits+=1\n",
    "print(digits)    "
   ]
  },
  {
   "cell_type": "code",
   "execution_count": 4,
   "id": "288c4e40",
   "metadata": {},
   "outputs": [
    {
     "name": "stdout",
     "output_type": "stream",
     "text": [
      "ramesh\n",
      "ramesh\n",
      "ramesh\n",
      "ramesh\n",
      "ramesh\n",
      "ramesh\n",
      "ramesh\n",
      "ramesh\n",
      "ramesh\n",
      "ramesh\n"
     ]
    }
   ],
   "source": [
    "a=10\n",
    "while a!=0:\n",
    "    print('ramesh')\n",
    "    a-=1"
   ]
  },
  {
   "cell_type": "code",
   "execution_count": 3,
   "id": "3556b8fb",
   "metadata": {},
   "outputs": [
    {
     "name": "stdout",
     "output_type": "stream",
     "text": [
      "ramesh\n",
      "ramesh\n",
      "ramesh\n",
      "ramesh\n",
      "ramesh\n",
      "ramesh\n",
      "ramesh\n",
      "ramesh\n",
      "ramesh\n",
      "9\n"
     ]
    }
   ],
   "source": [
    "a=1\n",
    "co=0\n",
    "while a<10:\n",
    "    print('ramesh')\n",
    "    a+=1\n",
    "    co+=1\n",
    "print(co)\n"
   ]
  },
  {
   "cell_type": "code",
   "execution_count": 8,
   "id": "b6cb4c12",
   "metadata": {},
   "outputs": [
    {
     "name": "stdout",
     "output_type": "stream",
     "text": [
      "1\n",
      "2\n",
      "3\n"
     ]
    }
   ],
   "source": [
    "i = 1\n",
    "while i < 6:\n",
    "  print(i)\n",
    "  if (i == 3):\n",
    "    break\n",
    "  i += 1\n"
   ]
  },
  {
   "cell_type": "code",
   "execution_count": 13,
   "id": "8d19c913",
   "metadata": {},
   "outputs": [
    {
     "name": "stdout",
     "output_type": "stream",
     "text": [
      "0\n",
      "1\n",
      "2\n",
      "3\n",
      "4\n"
     ]
    }
   ],
   "source": [
    "i=0\n",
    "while i<6:\n",
    "    print(i)\n",
    "    if (i == 4):\n",
    "      break\n",
    "    i+=1"
   ]
  },
  {
   "cell_type": "code",
   "execution_count": 2,
   "id": "785068a1",
   "metadata": {},
   "outputs": [
    {
     "name": "stdout",
     "output_type": "stream",
     "text": [
      "1\n",
      "2\n",
      "3\n",
      "4\n",
      "5\n",
      "6\n",
      "7\n",
      "8\n",
      "9\n",
      "10\n"
     ]
    }
   ],
   "source": [
    "n=0\n",
    "while n!=10:\n",
    "    n+=1\n",
    "    print(n)"
   ]
  },
  {
   "cell_type": "code",
   "execution_count": 7,
   "id": "70c11702",
   "metadata": {},
   "outputs": [
    {
     "name": "stdout",
     "output_type": "stream",
     "text": [
      "1\n",
      "2\n",
      "4\n",
      "5\n",
      "6\n",
      "7\n",
      "8\n",
      "9\n",
      "10\n"
     ]
    }
   ],
   "source": [
    "n=0\n",
    "while n!=10:\n",
    "    n+=1\n",
    "    if n==3:\n",
    "        continue\n",
    "    print(n)"
   ]
  },
  {
   "cell_type": "code",
   "execution_count": null,
   "id": "ff049165",
   "metadata": {},
   "outputs": [],
   "source": []
  }
 ],
 "metadata": {
  "kernelspec": {
   "display_name": "base",
   "language": "python",
   "name": "python3"
  },
  "language_info": {
   "codemirror_mode": {
    "name": "ipython",
    "version": 3
   },
   "file_extension": ".py",
   "mimetype": "text/x-python",
   "name": "python",
   "nbconvert_exporter": "python",
   "pygments_lexer": "ipython3",
   "version": "3.12.7"
  }
 },
 "nbformat": 4,
 "nbformat_minor": 5
}
